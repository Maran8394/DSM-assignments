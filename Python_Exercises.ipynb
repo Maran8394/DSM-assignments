{
 "cells": [
  {
   "cell_type": "markdown",
   "id": "781355ed",
   "metadata": {},
   "source": [
    "# Python Programming Exercises"
   ]
  },
  {
   "cell_type": "markdown",
   "id": "6e46ec50",
   "metadata": {},
   "source": [
    "### Q1. Function to Flatten a List and Return the Product of All Numbers"
   ]
  },
  {
   "cell_type": "markdown",
   "id": "57bebc39",
   "metadata": {},
   "source": [
    "We will create a function that takes a list as an argument, flattens it, extracts all numerical values, and returns their product."
   ]
  },
  {
   "cell_type": "code",
   "execution_count": null,
   "id": "1a61958b",
   "metadata": {},
   "outputs": [],
   "source": [
    "from functools import reduce\n",
    "import operator\n",
    "\n",
    "def flatten_and_multiply(lst):\n",
    "    flat_list = []\n",
    "    \n",
    "    def flatten(item):\n",
    "        if isinstance(item, (list, tuple, set)):\n",
    "            for subitem in item:\n",
    "                flatten(subitem)\n",
    "        elif isinstance(item, dict):\n",
    "            for key, value in item.items():\n",
    "                if isinstance(key, (int, float)):\n",
    "                    flat_list.append(key)\n",
    "                flatten(value)\n",
    "        elif isinstance(item, (int, float)):\n",
    "            flat_list.append(item)\n",
    "\n",
    "    flatten(lst)\n",
    "    return reduce(operator.mul, flat_list, 1)\n",
    "\n",
    "# Given list\n",
    "list1 = [1, 2, 3, 4, [44, 55, 66, True], False, (34, 56, 78, 89, 34), {1, 2, 3, 3, 2, 1},\n",
    "         {1: 34, \"key2\": [55, 67, 78, 89], 4: (45, 22, 61, 34)}, [56, 'data science'], 'Machine Learning']\n",
    "\n",
    "# Calculate product\n",
    "product = flatten_and_multiply(list1)\n",
    "product\n"
   ]
  },
  {
   "cell_type": "markdown",
   "id": "f0798ad9",
   "metadata": {},
   "source": [
    "### Q2. Python Program for Encrypting a Message"
   ]
  },
  {
   "cell_type": "markdown",
   "id": "3b07668a",
   "metadata": {},
   "source": [
    "We will create a function to encrypt a message such that:\n",
    "- Each letter is replaced by its opposite (e.g., a -> z, b -> y, etc.).\n",
    "- Whitespace is replaced by a dollar sign (`$`).\n",
    "- Punctuation marks remain unchanged."
   ]
  },
  {
   "cell_type": "code",
   "execution_count": null,
   "id": "27403aa9",
   "metadata": {},
   "outputs": [],
   "source": [
    "def encrypt_message(message):\n",
    "    # Create a dictionary for letter substitution\n",
    "    letters = 'abcdefghijklmnopqrstuvwxyz'\n",
    "    substitution = {letters[i]: letters[-i-1] for i in range(len(letters))}\n",
    "    \n",
    "    encrypted_message = ''\n",
    "    \n",
    "    for char in message.lower():\n",
    "        if char in substitution:\n",
    "            encrypted_message += substitution[char]\n",
    "        elif char == ' ':\n",
    "            encrypted_message += '$'\n",
    "        else:\n",
    "            encrypted_message += char\n",
    "            \n",
    "    return encrypted_message\n",
    "\n",
    "# Input sentence\n",
    "input_sentence = \"I want to become a Data Scientist.\"\n",
    "# Encrypting the sentence\n",
    "encrypted_sentence = encrypt_message(input_sentence)\n",
    "encrypted_sentence\n"
   ]
  }
 ],
 "metadata": {},
 "nbformat": 4,
 "nbformat_minor": 5
}