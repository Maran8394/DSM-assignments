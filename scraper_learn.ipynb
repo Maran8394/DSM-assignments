{
 "cells": [
  {
   "cell_type": "code",
   "execution_count": 31,
   "id": "b012c957-4c98-449e-8ebc-8cfdb8788366",
   "metadata": {},
   "outputs": [],
   "source": [
    "import requests\n",
    "from bs4 import BeautifulSoup\n",
    "import logging\n",
    "import os\n",
    "import pandas as pd"
   ]
  },
  {
   "cell_type": "code",
   "execution_count": 35,
   "id": "03e1d1b3-c382-44a9-8516-2cbf0ab33352",
   "metadata": {},
   "outputs": [],
   "source": [
    "save_dir = \"images/\"\n",
    "if os.path.exists(save_dir):\n",
    "    os.makedirs(save_dir)"
   ]
  },
  {
   "cell_type": "code",
   "execution_count": 32,
   "id": "683b960f-7f71-49b7-962d-8f2b1dfddf03",
   "metadata": {},
   "outputs": [],
   "source": [
    "def get_html(url):\n",
    "    response = requests.get(url)\n",
    "    response.raise_for_status() \n",
    "    return response.text"
   ]
  },
  {
   "cell_type": "code",
   "execution_count": 33,
   "id": "0befcd97-6d36-4134-bcf6-e695ab3abb9d",
   "metadata": {
    "tags": []
   },
   "outputs": [],
   "source": [
    "def parse_video_data(html):\n",
    "    soup = BeautifulSoup(html, 'html.parser')\n",
    "    video_data = []\n",
    "\n",
    "    # Find video elements\n",
    "    for video in soup.find_all('ytd-rich-item-renderer', limit=5):\n",
    "        title = video.find('a', {'id': 'video-title'}).get('title')\n",
    "        video_url = 'https://www.youtube.com' + video.find('a', {'id': 'video-title'}).get('href')\n",
    "        thumbnail_url = video.find('img', {'id': 'img'}).get('src')\n",
    "        views = video.find('span', {'class': 'style-scope ytd-video-meta-block'}).text\n",
    "        time_posted = video.find('span', {'class': 'style-scope ytd-video-meta-block'}).text\n",
    "\n",
    "        video_data.append({\n",
    "            'Title': title,\n",
    "            'Video URL': video_url,\n",
    "            'Thumbnail URL': thumbnail_url,\n",
    "            'Views': views,\n",
    "            'Time Posted': time_posted\n",
    "        })\n",
    "\n",
    "    return video_data"
   ]
  },
  {
   "cell_type": "code",
   "execution_count": null,
   "id": "a6328c0f-b288-4500-a61d-7c6a889a350c",
   "metadata": {},
   "outputs": [],
   "source": [
    "def save_to_csv(video_data, filename='video_data.csv'):\n",
    "    df = pd.DataFrame(video_data)\n",
    "    df.to_csv(filename, index=False)"
   ]
  },
  {
   "cell_type": "code",
   "execution_count": null,
   "id": "ed12434b-f59b-443b-8397-94fe196c2971",
   "metadata": {},
   "outputs": [],
   "source": [
    "def main():\n",
    "    url = \"https://www.youtube.com/@PW-Foundation/videos\"\n",
    "    html = get_html(url)\n",
    "    video_data = parse_video_data(html)\n",
    "    save_to_csv(video_data)"
   ]
  },
  {
   "cell_type": "code",
   "execution_count": null,
   "id": "278bd8aa-3613-4279-bc6c-08e606b01f9a",
   "metadata": {},
   "outputs": [],
   "source": [
    "main()"
   ]
  }
 ],
 "metadata": {
  "kernelspec": {
   "display_name": "Python 3 (ipykernel)",
   "language": "python",
   "name": "python3"
  },
  "language_info": {
   "codemirror_mode": {
    "name": "ipython",
    "version": 3
   },
   "file_extension": ".py",
   "mimetype": "text/x-python",
   "name": "python",
   "nbconvert_exporter": "python",
   "pygments_lexer": "ipython3",
   "version": "3.10.8"
  }
 },
 "nbformat": 4,
 "nbformat_minor": 5
}
