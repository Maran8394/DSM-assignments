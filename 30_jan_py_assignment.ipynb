{
 "cells": [
  {
   "cell_type": "code",
   "execution_count": null,
   "metadata": {},
   "outputs": [],
   "source": [
    "# Function to determine grade\n",
    "def calculate_grade(percentage):\n",
    "    if percentage > 90:\n",
    "        return \"A\"\n",
    "    elif percentage > 80:\n",
    "        return \"B\"\n",
    "    elif percentage >= 60:\n",
    "        return \"C\"\n",
    "    else:\n",
    "        return \"D\"\n",
    "\n",
    "# Accept percentage from the user\n",
    "percentage = float(input(\"Enter your percentage: \"))\n",
    "\n",
    "# Calculate and display the grade\n",
    "grade = calculate_grade(percentage)\n",
    "print(f\"Your grade is: {grade}\")\n"
   ]
  },
  {
   "cell_type": "code",
   "execution_count": null,
   "metadata": {},
   "outputs": [],
   "source": [
    "# Function to determine road tax\n",
    "def calculate_tax(cost):\n",
    "    if cost <= 50000:\n",
    "        return \"5%\"\n",
    "    elif cost > 50000 and cost <= 100000:\n",
    "        return \"10%\"\n",
    "    else:\n",
    "        return \"15%\"\n",
    "\n",
    "# Accept percentage from the user\n",
    "cost = float(input(\"Enter your Cost: \"))\n",
    "\n",
    "# Calculate and display the grade\n",
    "tax = calculate_tax(cost)\n",
    "print(f\"Your Tax is: {tax}\")\n"
   ]
  },
  {
   "cell_type": "code",
   "execution_count": null,
   "metadata": {},
   "outputs": [],
   "source": [
    "# Function to display monuments of that city\n",
    "def city_monuments(city):\n",
    "    if city.lower() == \"delhi\":\n",
    "        return \"Red Fort\"\n",
    "    elif city.lower() == \"agra\":\n",
    "        return \"Taj Mahal\"\n",
    "    elif city.lower() == \"jaipur\":\n",
    "        return \"Jal Mahal\"\n",
    "    else:\n",
    "        return \"Not found\"\n",
    "\n",
    "# Accept percentage from the user\n",
    "city = str(input(\"Enter the city: \"))\n",
    "\n",
    "# Calculate and display the grade\n",
    "monument = city_monuments(city)\n",
    "print(f\"Monument is: {monument}\")\n"
   ]
  },
  {
   "cell_type": "code",
   "execution_count": null,
   "metadata": {},
   "outputs": [],
   "source": [
    "# 1. Check how many times a given number can be divided by 3 before it is less than or equal to 10\n",
    "def count_divisions(n):\n",
    "    count = 0\n",
    "    while n > 10:\n",
    "        n = n / 3\n",
    "        count += 1\n",
    "    return count\n",
    "\n",
    "# Example usage\n",
    "number = 1000\n",
    "print(f\"The number {number} can be divided by 3 {count_divisions(number)} times before it is less than or equal to 10.\")\n"
   ]
  },
  {
   "cell_type": "code",
   "execution_count": null,
   "metadata": {},
   "outputs": [],
   "source": [
    "# Why and When to Use while Loop in Python\n",
    "\n",
    "# Description:\n",
    "# A while loop in Python is used to execute a block of code as long as a condition is true. It is useful when the number of iterations is not known beforehand or when you want to loop until a particular condition is met.\n",
    "# Example: Using a while loop to print numbers from 1 to 5\n",
    "count = 1\n",
    "while count <= 5:\n",
    "    print(count)\n",
    "    count += 1\n"
   ]
  },
  {
   "cell_type": "code",
   "execution_count": null,
   "metadata": {},
   "outputs": [],
   "source": [
    "#  Use nested while loop to print 3 different patterns\n",
    "# Pattern 1: Right-angled triangle\n",
    "print(\"Pattern 1:\")\n",
    "rows = 5\n",
    "i = 1\n",
    "while i <= rows:\n",
    "    j = 1\n",
    "    while j <= i:\n",
    "        print(\"*\", end=\"\")\n",
    "        j += 1\n",
    "    print()\n",
    "    i += 1\n",
    "\n",
    "# Pattern 2: Inverted right-angled triangle\n",
    "print(\"Pattern 2:\")\n",
    "rows = 5\n",
    "i = rows\n",
    "while i >= 1:\n",
    "    j = 1\n",
    "    while j <= i:\n",
    "        print(\"*\", end=\"\")\n",
    "        j += 1\n",
    "    print()\n",
    "    i -= 1\n",
    "\n",
    "# Pattern 3: Square\n",
    "print(\"Pattern 3:\")\n",
    "rows = 5\n",
    "i = 1\n",
    "while i <= rows:\n",
    "    j = 1\n",
    "    while j <= rows:\n",
    "        print(\"*\", end=\"\")\n",
    "        j += 1\n",
    "    print()\n",
    "    i += 1\n"
   ]
  },
  {
   "cell_type": "code",
   "execution_count": null,
   "metadata": {},
   "outputs": [],
   "source": [
    "# Reverse a while loop to display numbers from 10 to 1\n",
    "\n",
    "print(\"Numbers from 10 to 1:\")\n",
    "num = 10\n",
    "while num >= 1:\n",
    "    print(num)\n",
    "    num -= 1\n"
   ]
  }
 ],
 "metadata": {
  "kernelspec": {
   "display_name": "Python 3",
   "language": "python",
   "name": "python3"
  },
  "language_info": {
   "name": "python",
   "version": "3.10.14"
  }
 },
 "nbformat": 4,
 "nbformat_minor": 2
}
