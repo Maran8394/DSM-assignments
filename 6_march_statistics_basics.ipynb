{
 "cells": [
  {
   "cell_type": "code",
   "execution_count": null,
   "metadata": {},
   "outputs": [],
   "source": [
    "# Q1: What is Statistics?\n",
    "# Statistics is a branch of mathematics that involves the collection, analysis, interpretation, presentation, and organization of data. It helps in making informed decisions based on data analysis.\n",
    "\n",
    "# Q2: Define the different types of statistics and give an example of when each type might be used.\n",
    "# 1. Descriptive Statistics: Involves summarizing and organizing data. Example: Calculating the average test score of a class.\n",
    "# 2. Inferential Statistics: Involves making predictions or inferences about a population based on a sample. Example: Estimating the average income of a city based on a survey of a few residents.\n",
    "\n",
    "# Q3: What are the different types of data and how do they differ from each other? Provide an example of each type of data.\n",
    "# 1. Quantitative Data: Numerical data that can be measured. Example: Height of individuals.\n",
    "# 2. Qualitative Data: Categorical data that describes characteristics. Example: Eye color of individuals.\n",
    "\n",
    "# Q4: Categorize the following datasets with respect to quantitative and qualitative data types:\n",
    "# (i) Grading in exam: A+, A, B+, B, C+, C, D, E - Qualitative (Ordinal)\n",
    "# (ii) Colour of mangoes: yellow, green, orange, red - Qualitative (Nominal)\n",
    "# (iii) Height data of a class: [178.9, 179, 179.5, 176, 177.2, 178.3, 175.8,...] - Quantitative\n",
    "# (iv) Number of mangoes exported by a farm: [500, 600, 478, 672, ...] - Quantitative\n",
    "\n",
    "# Q5: Explain the concept of levels of measurement and give an example of a variable for each level.\n",
    "# 1. Nominal: Categories with no intrinsic order. Example: Gender (Male, Female).\n",
    "# 2. Ordinal: Categories with a meaningful order but no consistent difference between categories. Example: Educational Level (High School, Bachelor, Master, PhD).\n",
    "# 3. Interval: Numeric scales with consistent intervals but no true zero. Example: Temperature in Celsius.\n",
    "# 4. Ratio: Numeric scales with consistent intervals and a true zero point. Example: Weight.\n",
    "\n",
    "# Q6: Why is it important to understand the level of measurement when analyzing data? Provide an example to illustrate your answer.\n",
    "# Understanding the level of measurement is crucial because it determines the types of statistical analyses that can be performed. For instance, you cannot calculate the mean of nominal data like \"color\" but can calculate it for interval or ratio data like \"temperature.\"\n",
    "\n",
    "# Q7: How nominal data type is different from ordinal data type.\n",
    "# Nominal data represents categories without any inherent order (e.g., color), while ordinal data represents categories with a meaningful order (e.g., grade levels).\n",
    "\n",
    "# Q8: Which type of plot can be used to display data in terms of range?\n",
    "# A box plot (box-and-whisker plot) can be used to display the range, median, and quartiles of a dataset.\n",
    "\n",
    "# Q9: Describe the difference between descriptive and inferential statistics. Give an example of each type of statistics and explain how they are used.\n",
    "# Descriptive Statistics: Summarizes data with measures like mean, median, and mode. Example: Calculating the average salary of employees in a company.\n",
    "# Inferential Statistics: Draws conclusions about a population based on sample data. Example: Conducting a survey to estimate the average income of a city based on a sample.\n",
    "\n",
    "# Q10: What are some common measures of central tendency and variability used in statistics? Explain how each measure can be used to describe a dataset.\n",
    "# Measures of Central Tendency:\n",
    "# 1. Mean: The average of all data points. Example: Average score of a test.\n",
    "# 2. Median: The middle value when data is ordered. Example: Median house price in a neighborhood.\n",
    "# 3. Mode: The most frequent value in the dataset. Example: Most common test score.\n",
    "# Measures of Variability:\n",
    "# 1. Range: Difference between the maximum and minimum values. Example: Range of temperatures in a month.\n",
    "# 2. Variance: Measure of data spread around the mean. Example: Variance in student test scores.\n",
    "# 3. Standard Deviation: Square root of variance, showing data dispersion. Example: Standard deviation of monthly sales.\n",
    "\n"
   ]
  }
 ],
 "metadata": {
  "language_info": {
   "name": "python"
  }
 },
 "nbformat": 4,
 "nbformat_minor": 2
}
