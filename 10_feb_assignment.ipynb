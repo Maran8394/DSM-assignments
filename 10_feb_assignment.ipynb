{
 "cells": [
  {
   "cell_type": "code",
   "execution_count": null,
   "metadata": {},
   "outputs": [],
   "source": [
    "# Python File Handling Concepts\n",
    "\n",
    "## Q1. File Opening Functions and Modes\n",
    "\n",
    "# **Function to Open a File:**\n",
    "# The `open()` function is used to open a file in Python.\n",
    "\n",
    "# **Different Modes of Opening a File:**\n",
    "\n",
    "# - `'r'`: Read mode (default). Opens the file for reading. If the file does not exist, an error is raised.\n",
    "# - `'w'`: Write mode. Opens the file for writing. If the file exists, its content is truncated. If the file does not exist, a new file is created.\n",
    "# - `'a'`: Append mode. Opens the file for writing. If the file exists, data is appended to the end. If the file does not exist, a new file is created.\n",
    "# - `'b'`: Binary mode. This can be appended to other modes (e.g., `'rb'` or `'wb'`) to handle binary files.\n",
    "# - `'x'`: Exclusive creation. If the file already exists, the operation fails.\n",
    "# - `'t'`: Text mode (default). This can be appended to other modes (e.g., `'rt'` or `'wt'`) for handling text files.\n",
    "\n",
    "\n",
    "# Example of opening a file\n",
    "file = open('example.txt', 'w')  # Open for writing (creates a new file or truncates existing)\n",
    "file.close()\n"
   ]
  },
  {
   "cell_type": "code",
   "execution_count": null,
   "metadata": {},
   "outputs": [],
   "source": [
    "## Q2. Why close() Function is Used\n",
    "# The close() function is used to close a file. It is important to close a file to:\n",
    "\n",
    "# Free Resources: Closing a file releases system resources that were tied up with the open file.\n",
    "# Ensure Data Integrity: Ensures that all data is properly written to disk and that no data is lost.\n",
    "# Avoid Memory Leaks: Prevents the program from using up memory unnecessarily.\n",
    "# Example of closing a file\n",
    "file = open('example.txt', 'w')\n",
    "file.write('Hello World!')\n",
    "file.close()  # Important to close the file\n"
   ]
  },
  {
   "cell_type": "code",
   "execution_count": null,
   "metadata": {},
   "outputs": [],
   "source": [
    "## Q3. Create and Read a Text File\n",
    "# Create a text file and write content\n",
    "file_path = 'data_scientist.txt'\n",
    "with open(file_path, 'w') as file:\n",
    "    file.write('I want to become a Data Scientist')\n",
    "\n",
    "# Read the content of the file\n",
    "with open(file_path, 'r') as file:\n",
    "    content = file.read()\n",
    "    print(content)  # Output: I want to become a Data Scientist\n"
   ]
  },
  {
   "cell_type": "code",
   "execution_count": null,
   "metadata": {},
   "outputs": [],
   "source": [
    "## Q4. File Reading Methods\n",
    "\n",
    "# * read(): Reads the entire content of the file.\n",
    "# * readline(): Reads a single line from the file.\n",
    "# * readlines(): Reads all lines from the file and returns them as a list.\n",
    "# Example of read(), readline(), and readlines()\n",
    "\n",
    "with open('data_scientist.txt', 'r') as file:\n",
    "    print(\"Using read():\")\n",
    "    print(file.read())  # Output: I want to become a Data Scientist\n",
    "\n",
    "with open('data_scientist.txt', 'r') as file:\n",
    "    print(\"Using readline():\")\n",
    "    print(file.readline())  # Output: I want to become a Data Scientist\n",
    "\n",
    "with open('data_scientist.txt', 'r') as file:\n",
    "    print(\"Using readlines():\")\n",
    "    print(file.readlines())  # Output: ['I want to become a Data Scientist']\n"
   ]
  },
  {
   "cell_type": "code",
   "execution_count": null,
   "metadata": {},
   "outputs": [],
   "source": [
    "## Q5. Using with Statement with open()\n",
    "# The with statement is used to wrap the execution of a block of code. When used with open(), it ensures that the file is properly closed after its suite finishes, even if an exception is raised.\n",
    "\n",
    "# Advantages:\n",
    "\n",
    "# Automatic Cleanup: The file is automatically closed after the block of code is executed.\n",
    "# Exception Handling: Ensures file closure even if an error occurs within the block.\n",
    "\n",
    "# Example using with statement\n",
    "with open('example.txt', 'w') as file:\n",
    "    file.write('Hello with statement!')\n",
    "    # File is automatically closed after this block\n",
    "\n"
   ]
  },
  {
   "cell_type": "code",
   "execution_count": null,
   "metadata": {},
   "outputs": [],
   "source": [
    "## Q6. write() and writelines() Functions\n",
    "# write(): Writes a single string to the file.\n",
    "# writelines(): Writes a list of strings to the file.\n",
    "\n",
    "\n",
    "with open('write_example.txt', 'w') as file:\n",
    "    file.write('Hello\\n')  # Writes a single string\n",
    "    file.writelines(['World\\n', 'Python\\n'])  # Writes multiple lines from a list\n",
    "\n",
    "# Reading to verify the content\n",
    "with open('write_example.txt', 'r') as file:\n",
    "    content = file.read()\n",
    "    print(content)  # Output: Hello\\nWorld\\nPython\\n"
   ]
  }
 ],
 "metadata": {
  "language_info": {
   "name": "python"
  }
 },
 "nbformat": 4,
 "nbformat_minor": 2
}
