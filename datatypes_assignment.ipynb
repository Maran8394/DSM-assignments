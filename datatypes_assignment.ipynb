{
 "cells": [
  {
   "cell_type": "markdown",
   "id": "4dde7937-63be-41d7-b24f-7c886b913ae8",
   "metadata": {},
   "source": [
    "# Q1\n",
    "What are the characteristics of the tuples? Is tuple immutable?\n",
    "* Yes tuples are immutable\n",
    "* indexing is possible\n",
    "* it accept duplicates"
   ]
  },
  {
   "cell_type": "markdown",
   "id": "ff70d88c-1345-4a17-bc06-7fa1e2a19b72",
   "metadata": {},
   "source": [
    "# Q2\n",
    "What are the two tuple methods in python?\n",
    "* index()\n",
    "* count()"
   ]
  },
  {
   "cell_type": "code",
   "execution_count": 5,
   "id": "139ff63f-c9fd-4475-835e-fd1c3b4dd549",
   "metadata": {},
   "outputs": [
    {
     "name": "stdout",
     "output_type": "stream",
     "text": [
      "index of 45 at t1 is 3\n",
      "count of 45 at t1 is 2\n"
     ]
    }
   ],
   "source": [
    "# index\n",
    "t1 = (1,2,3,45,6,7,45)\n",
    "print(\"index of 45 at t1 is {}\".format(t1.index(45)))\n",
    "\n",
    "# count\n",
    "print(\"count of 45 at t1 is {}\".format(t1.count(45)))"
   ]
  },
  {
   "cell_type": "markdown",
   "id": "15542e26-9073-4743-b162-31815d159d64",
   "metadata": {},
   "source": [
    "Reason why tuples have only two in-built methods as compared to Lists\n",
    "* tuples are immutable so we can't add or change any element inside the tuples that's why it doest have any functions to add or update the elements.\n",
    "* tuples are itertable so it has count, index function.\n"
   ]
  },
  {
   "cell_type": "code",
   "execution_count": 7,
   "id": "213b279c-cf77-46de-aa50-d891b27da440",
   "metadata": {},
   "outputs": [
    {
     "name": "stdout",
     "output_type": "stream",
     "text": [
      "{1, 2, 3, 4}\n"
     ]
    }
   ],
   "source": [
    "# Q3\n",
    "# set won't allow duplicate items\n",
    "List = [1, 1, 1, 2, 1, 3, 1, 4, 2, 1, 2, 2, 2, 3, 2, 4, 3, 1, 3, 2, 3, 3, 3, 4, 4, 1, 4, 2, 4, 3, 4, 4]\n",
    "l= set(List)\n",
    "print(l)"
   ]
  },
  {
   "cell_type": "markdown",
   "id": "51ce2f68-7493-4d12-b96c-a254d1a7b49a",
   "metadata": {},
   "source": [
    "# Q4\n",
    "union() and update() in set\n",
    "### union()\n",
    "* union will return new set of added elements and it i'll allocate a new address in the memory\n",
    "* it won't affect the base set \n",
    "\n",
    "### update()\n",
    "* update will perform update operation only in the base set\n",
    "* it'll return none"
   ]
  },
  {
   "cell_type": "code",
   "execution_count": 12,
   "id": "e5efd784-8ee0-43da-8b04-1e5e1525c7e9",
   "metadata": {},
   "outputs": [
    {
     "name": "stdout",
     "output_type": "stream",
     "text": [
      "{1, 2, 3, 4, 5} 139784282274752\n",
      "{1, 2, 3, 4, 5, 6} 139784290132128\n",
      "None\n",
      "{1, 2, 3, 4, 5, 6}\n"
     ]
    }
   ],
   "source": [
    "# Example\n",
    "d1={1,2,3,4,5}\n",
    "d2 = {6,3,4,5}\n",
    "d3 = d1.union(d2)\n",
    "print(d1, id(d1))\n",
    "print(d3, id(d3))\n",
    "\n",
    "s = d1.update(d3)\n",
    "print(s)\n",
    "print(d1)"
   ]
  },
  {
   "cell_type": "code",
   "execution_count": null,
   "id": "7978b32d-0585-4fa7-a29a-c79e074d200a",
   "metadata": {},
   "outputs": [],
   "source": [
    "# Q5\n",
    "# Dictionary\n",
    "\"\"\"\n",
    "Dictionary is a collection of key value pair items.\n",
    "Dictionary is ordered and changeable.\n",
    "\"\"\"\n",
    "\n",
    "# Example\n",
    "d = {\"key1\":\"value1\", \"key2\":\"value2\"}"
   ]
  },
  {
   "cell_type": "code",
   "execution_count": 14,
   "id": "b762b08d-e261-43a4-b8c5-638d883f1986",
   "metadata": {},
   "outputs": [
    {
     "name": "stdout",
     "output_type": "stream",
     "text": [
      "{'name': 'Maran', 'hobbies': ['anime', 'football', 'cleaning'], 'education': {'10th': {'school_name': 'govt school', 'percentage': 90}, '12th': {'school_name': 'govt school', 'percentage': 70}, 'degree': {'college_name': 'MCE', 'percentage': 77}}}\n"
     ]
    }
   ],
   "source": [
    "# Q6\n",
    "# Nested Dictionary\n",
    "\n",
    "profile = {\n",
    "    \"name\":\"Maran\",\n",
    "    \"hobbies\":[\n",
    "        \"anime\",\n",
    "        \"football\",\n",
    "        \"cleaning\"\n",
    "    ],\n",
    "    \"education\":{\n",
    "        \"10th\":{\n",
    "            \"school_name\":\"govt school\",\n",
    "            \"percentage\":90,\n",
    "    },\n",
    "        \"12th\":{\n",
    "            \"school_name\":\"govt school\",\n",
    "            \"percentage\":70,\n",
    "        },\n",
    "        \"degree\":{\n",
    "            \"college_name\":\"MCE\",\n",
    "            \"percentage\":77,\n",
    "        },\n",
    "    }\n",
    "}\n",
    "print(profile)"
   ]
  },
  {
   "cell_type": "code",
   "execution_count": 17,
   "id": "a63a7846-2f6b-40d5-8a65-3c0ae1a9ba57",
   "metadata": {},
   "outputs": [
    {
     "name": "stdout",
     "output_type": "stream",
     "text": [
      "{'language': 'Python', 'course': 'Data Science Masters', 'topics': ['Python', 'Machine Learning', 'Deep Learning']}\n"
     ]
    }
   ],
   "source": [
    "# Q7\n",
    "dict1 = {'language' : 'Python', 'course': 'Data Science Masters'}\n",
    "dict1.setdefault(\"topics\",['Python', 'Machine Learning', 'Deep Learning'])\n",
    "print(dict1)"
   ]
  },
  {
   "cell_type": "code",
   "execution_count": 19,
   "id": "1a3a5050-06d8-4877-ad1a-e483b7be4a31",
   "metadata": {},
   "outputs": [
    {
     "name": "stdout",
     "output_type": "stream",
     "text": [
      "dict_keys(['Sport', 'Teams'])\n",
      "dict_values(['Cricket', ['India', 'Australia', 'England', 'South Africa', 'Sri Lanka', 'New Zealand']])\n",
      "dict_items([('Sport', 'Cricket'), ('Teams', ['India', 'Australia', 'England', 'South Africa', 'Sri Lanka', 'New Zealand'])])\n"
     ]
    }
   ],
   "source": [
    "# Q8 - three view objects in dictionaries\n",
    "\n",
    "dict1 = {'Sport': 'Cricket' , 'Teams': ['India', 'Australia', 'England', 'South Africa', 'Sri Lanka', 'New Zealand']}\n",
    "\n",
    "# keys()\n",
    "print(dict1.keys())\n",
    "\n",
    "# values()\n",
    "print(dict1.values())\n",
    "\n",
    "# items()\n",
    "print(dict1.items())\n"
   ]
  }
 ],
 "metadata": {
  "kernelspec": {
   "display_name": "Python 3 (ipykernel)",
   "language": "python",
   "name": "python3"
  },
  "language_info": {
   "codemirror_mode": {
    "name": "ipython",
    "version": 3
   },
   "file_extension": ".py",
   "mimetype": "text/x-python",
   "name": "python",
   "nbconvert_exporter": "python",
   "pygments_lexer": "ipython3",
   "version": "3.10.8"
  }
 },
 "nbformat": 4,
 "nbformat_minor": 5
}
