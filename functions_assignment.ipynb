{
 "cells": [
  {
   "cell_type": "code",
   "execution_count": 12,
   "id": "e14fddbf-a279-40ab-941f-91416524f982",
   "metadata": {},
   "outputs": [
    {
     "data": {
      "text/plain": [
       "[1, 3, 5, 7, 9, 11, 13, 15, 17, 19, 21, 23]"
      ]
     },
     "execution_count": 12,
     "metadata": {},
     "output_type": "execute_result"
    }
   ],
   "source": [
    "# Q1\n",
    "# def keyword is used to write a fuction\n",
    "\n",
    "def find_odd(range_num):\n",
    "    l = []\n",
    "    for i in range(1,range_num):\n",
    "        if i%2 != 0:\n",
    "            l.append(i)\n",
    "    return l\n",
    "\n",
    "find_odd(25)"
   ]
  },
  {
   "cell_type": "code",
   "execution_count": 14,
   "id": "c5ec90b8-74ef-48d0-931e-cd5852fbdd86",
   "metadata": {},
   "outputs": [
    {
     "name": "stdout",
     "output_type": "stream",
     "text": [
      "(1, 2, 4, 5, 6)\n",
      "{'a': 10, 'b': 20, 'c': 30}\n"
     ]
    }
   ],
   "source": [
    "# Q2 *args and **kwargs \n",
    "\n",
    "# *args -> used to pass n number arguments to a function, its consider as a tuple type\n",
    "# **kwargs -> used to pass n number of named arguments, its consider as dictionary type\n",
    "\n",
    "def arguments(*args):\n",
    "    return args\n",
    "\n",
    "def named_arguments(**kwargs):\n",
    "    return kwargs\n",
    "\n",
    "r1 = arguments(1,2,4,5,6)\n",
    "r2 = named_arguments(a=10,b=20,c=30)\n",
    "print(r1)\n",
    "print(r2)"
   ]
  },
  {
   "cell_type": "code",
   "execution_count": 19,
   "id": "b0967901-47b8-47c0-adf5-72ffe6d11be2",
   "metadata": {},
   "outputs": [
    {
     "name": "stdout",
     "output_type": "stream",
     "text": [
      "2\n",
      "4\n",
      "6\n",
      "8\n",
      "10\n"
     ]
    }
   ],
   "source": [
    "# Q3 iterator\n",
    "# iterator is an object that allows to iterate through the object such as list, tuple,set.\n",
    "# method used to initialise the iterator is iter()\n",
    "# method used for iteration is next()\n",
    "given_list = [2, 4, 6, 8, 10, 12, 14, 16, 18, 20]\n",
    "it = iter(given_list)\n",
    "for i in range(5):\n",
    "    print(next(it))\n",
    "    "
   ]
  },
  {
   "cell_type": "code",
   "execution_count": 20,
   "id": "09188aca-bbe4-4c24-a663-a99dcf997efb",
   "metadata": {},
   "outputs": [
    {
     "name": "stdout",
     "output_type": "stream",
     "text": [
      "0\n",
      "1\n",
      "1\n",
      "2\n",
      "3\n",
      "5\n",
      "8\n",
      "13\n",
      "21\n",
      "34\n"
     ]
    }
   ],
   "source": [
    "# Q4 Generator\n",
    "# generator -> \n",
    "# A generator is an iterator that generates values on the fly, instead of computing all the values at once and storing them in memory like a list. \n",
    "# The generator function generates values one at a time, which makes it much more memory-efficient than a list.\n",
    "# The yield keyword is used in generator functions to return a value to the calling code, but instead of terminating the function, it suspends its execution and retains its state. \n",
    "def fibonacci_gen():\n",
    "    a, b = 0, 1\n",
    "    while True:\n",
    "        yield a\n",
    "        a, b = b, a + b\n",
    "\n",
    "fib_gen = fibonacci_gen()\n",
    "for i in range(10):\n",
    "    print(next(fib_gen))\n",
    "    "
   ]
  },
  {
   "cell_type": "code",
   "execution_count": 35,
   "id": "b062f387-75d5-4749-b5d1-5f983aa9c60b",
   "metadata": {},
   "outputs": [
    {
     "name": "stdout",
     "output_type": "stream",
     "text": [
      "2\n",
      "3\n",
      "5\n",
      "7\n",
      "11\n",
      "13\n",
      "17\n",
      "19\n",
      "23\n",
      "29\n",
      "31\n",
      "37\n",
      "41\n",
      "43\n",
      "47\n",
      "53\n",
      "59\n",
      "61\n",
      "67\n",
      "71\n"
     ]
    }
   ],
   "source": [
    "# Q5 -> Prime Numbers\n",
    "def find_prime(range_num):\n",
    "    for num in range(range_num):\n",
    "        if num > 1:\n",
    "            for j in range(2, num):\n",
    "                if (num % j) == 0:\n",
    "                    break\n",
    "            else:\n",
    "                yield num\n",
    "s = find_prime(999)\n",
    "for i in range(20):\n",
    "    print(next(s))"
   ]
  }
 ],
 "metadata": {
  "kernelspec": {
   "display_name": "Python 3 (ipykernel)",
   "language": "python",
   "name": "python3"
  },
  "language_info": {
   "codemirror_mode": {
    "name": "ipython",
    "version": 3
   },
   "file_extension": ".py",
   "mimetype": "text/x-python",
   "name": "python",
   "nbconvert_exporter": "python",
   "pygments_lexer": "ipython3",
   "version": "3.10.8"
  }
 },
 "nbformat": 4,
 "nbformat_minor": 5
}
