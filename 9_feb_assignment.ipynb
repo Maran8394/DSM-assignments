{
 "cells": [
  {
   "cell_type": "code",
   "execution_count": null,
   "metadata": {},
   "outputs": [],
   "source": [
    "\n",
    "## Q1. Create a Vehicle Class\n",
    "class Vehicle:\n",
    "    def __init__(self, name_of_vehicle, max_speed, average_of_vehicle):\n",
    "        self.name_of_vehicle = name_of_vehicle\n",
    "        self.max_speed = max_speed\n",
    "        self.average_of_vehicle = average_of_vehicle\n",
    "\n",
    "    def __str__(self):\n",
    "        return f\"Vehicle: {self.name_of_vehicle}, Max Speed: {self.max_speed} km/h, Average: {self.average_of_vehicle} km/l\"\n",
    "        \n",
    "# Example usage\n",
    "vehicle = Vehicle(\"Toyota Prius\", 180, 15)\n",
    "print(vehicle)\n"
   ]
  },
  {
   "cell_type": "code",
   "execution_count": null,
   "metadata": {},
   "outputs": [],
   "source": [
    "## Q2. Create a Child Class Car with Seating Capacity\n",
    "class Car(Vehicle):\n",
    "    def __init__(self, name_of_vehicle, max_speed, average_of_vehicle):\n",
    "        super().__init__(name_of_vehicle, max_speed, average_of_vehicle)\n",
    "\n",
    "    def seating_capacity(self, capacity):\n",
    "        return f\"{self.name_of_vehicle} has a seating capacity of {capacity} people.\"\n",
    "\n",
    "# Example usage\n",
    "car = Car(\"Honda Civic\", 200, 14)\n",
    "print(car.seating_capacity(5))\n"
   ]
  },
  {
   "cell_type": "code",
   "execution_count": null,
   "metadata": {},
   "outputs": [],
   "source": [
    "## Q3. What is Multiple Inheritance? Demonstration of Multiple Inheritance\n",
    "class Engine:\n",
    "    def engine_type(self):\n",
    "        return \"This vehicle uses a combustion engine.\"\n",
    "\n",
    "class AirConditioner:\n",
    "    def ac_type(self):\n",
    "        return \"This vehicle has a climate control air conditioner.\"\n",
    "\n",
    "class LuxuryCar(Car, Engine, AirConditioner):\n",
    "    def __init__(self, name_of_vehicle, max_speed, average_of_vehicle):\n",
    "        super().__init__(name_of_vehicle, max_speed, average_of_vehicle)\n",
    "\n",
    "# Example usage\n",
    "luxury_car = LuxuryCar(\"BMW 7 Series\", 250, 12)\n",
    "print(luxury_car.seating_capacity(4))\n",
    "print(luxury_car.engine_type())\n",
    "print(luxury_car.ac_type())\n"
   ]
  },
  {
   "cell_type": "code",
   "execution_count": null,
   "metadata": {},
   "outputs": [],
   "source": [
    "##Q4. Getter and Setter Methods in Python\n",
    "class Person:\n",
    "    def __init__(self, name):\n",
    "        self.__name = name\n",
    "\n",
    "    # Getter method\n",
    "    def get_name(self):\n",
    "        return self.__name\n",
    "\n",
    "    # Setter method\n",
    "    def set_name(self, name):\n",
    "        self.__name = name\n",
    "\n",
    "# Example usage\n",
    "person = Person(\"John Doe\")\n",
    "print(person.get_name())\n",
    "person.set_name(\"Jane Doe\")\n",
    "print(person.get_name())\n"
   ]
  },
  {
   "cell_type": "code",
   "execution_count": null,
   "metadata": {},
   "outputs": [],
   "source": [
    "## Q5. Method Overriding in Python\n",
    "class Parent:\n",
    "    def show(self):\n",
    "        return \"This is the parent class.\"\n",
    "\n",
    "class Child(Parent):\n",
    "    def show(self):\n",
    "        return \"This is the child class.\"\n",
    "\n",
    "# Example usage\n",
    "parent = Parent()\n",
    "child = Child()\n",
    "\n",
    "print(parent.show())  # Output: This is the parent class.\n",
    "print(child.show())   # Output: This is the child class.\n"
   ]
  }
 ],
 "metadata": {
  "language_info": {
   "name": "python"
  }
 },
 "nbformat": 4,
 "nbformat_minor": 2
}
