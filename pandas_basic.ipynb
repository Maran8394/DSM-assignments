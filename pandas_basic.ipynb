{
 "cells": [
  {
   "cell_type": "code",
   "execution_count": 2,
   "id": "644afc12-1ee6-4dd0-9847-7305d374f4b6",
   "metadata": {},
   "outputs": [],
   "source": [
    "import pandas as pd\n",
    "import numpy as np"
   ]
  },
  {
   "cell_type": "code",
   "execution_count": 9,
   "id": "9b5d6bc3-a8ad-467f-b58a-2afde890fd2e",
   "metadata": {},
   "outputs": [
    {
     "name": "stdout",
     "output_type": "stream",
     "text": [
      "[4, 8, 15, 16, 23, 42]\n"
     ]
    }
   ],
   "source": [
    "# Q1. Create a Pandas Series that contains the following data: 4, 8, 15, 16, 23, and 42. Then, print the series.\n",
    "n = [4, 8, 15, 16, 23,42]\n",
    "p = pd.Series(n)\n",
    "print(n)"
   ]
  },
  {
   "cell_type": "code",
   "execution_count": 7,
   "id": "3b242a75-3aad-4951-ad4f-d7bbe7bd5a11",
   "metadata": {},
   "outputs": [
    {
     "name": "stdout",
     "output_type": "stream",
     "text": [
      "0    0\n",
      "1    1\n",
      "2    2\n",
      "3    3\n",
      "4    4\n",
      "5    5\n",
      "6    6\n",
      "7    7\n",
      "8    8\n",
      "9    9\n",
      "dtype: int64\n"
     ]
    }
   ],
   "source": [
    "# Q2. Create a variable of list type containing 10 elements in it, and apply pandas.Series function on the\n",
    "# variable print it.\n",
    "\n",
    "l = [i for i in range(10)]\n",
    "ser = pd.Series(l)\n",
    "print(ser)"
   ]
  },
  {
   "cell_type": "code",
   "execution_count": 10,
   "id": "ad1e0144-44b6-4d6c-ab43-26e63169ae35",
   "metadata": {},
   "outputs": [
    {
     "name": "stdout",
     "output_type": "stream",
     "text": [
      "     name  age  gender\n",
      "0   Alice   25  Female\n",
      "1     Bob   30    Male\n",
      "2  Claire   27  Female\n"
     ]
    }
   ],
   "source": [
    "# Q3. Create a Pandas DataFrame that contains the following data\n",
    "data = {\n",
    "    \"name\":[\"Alice\",\"Bob\",\"Claire\"],\n",
    "    \"age\":[25,30,27],\n",
    "    \"gender\":[\"Female\",\"Male\",\"Female\"]\n",
    "}\n",
    "dataframe = pd.DataFrame(data)\n",
    "print(dataframe)"
   ]
  },
  {
   "cell_type": "raw",
   "id": "9deea5bb-5012-44ea-8c95-73f808743b61",
   "metadata": {},
   "source": [
    "### Q4. What is ‘DataFrame’ in pandas and how is it different from pandas.series? Explain with an example.\n",
    "Series\n",
    "* it's one one dimensional array\n",
    "* elements must be the same data type\n",
    "* size of a Series object cannot be changed.\n",
    "Ex:\n",
    "    l = [i for i in range(10)]\n",
    "    ser = pd.Series(l)\n",
    "    print(ser)\n",
    "\n",
    "DataFrame\n",
    "* two dimensional array\n",
    "* elements can be different data types.\n",
    "* elements can be dropped or added in an existing DataFrame.\n",
    "\n",
    "Ex:\n",
    "    data = {\n",
    "        \"name\":[\"Alice\",\"Bob\",\"Claire\"],\n",
    "        \"age\":[25,30,27],\n",
    "        \"gender\":[\"Female\",\"Male\",\"Female\"]\n",
    "    }\n",
    "    dataframe = pd.DataFrame(data)"
   ]
  },
  {
   "cell_type": "raw",
   "id": "f82d7f41-9cfc-4ad0-a052-8b73392f98f8",
   "metadata": {},
   "source": [
    "### Q5. What are some common functions you can use to manipulate data in a Pandas DataFrame? Can\n",
    "you give an example of when you might use one of these functions?\n",
    "\n",
    "* loc, iloc, and [] - selecting rows and cols\n",
    "* apply() - update the dataframe values\n"
   ]
  },
  {
   "cell_type": "raw",
   "id": "33d8ea9e-78f7-4cbc-a8de-ca0416e2234d",
   "metadata": {},
   "source": [
    "### Q6. Which of the following is mutable in nature Series, DataFrame, Panel?\n",
    "* Series and DataFrame -  mutable\n",
    "* Panel - immutable"
   ]
  },
  {
   "cell_type": "code",
   "execution_count": 11,
   "id": "89fe5a01-3c77-4fdb-905f-12cf7762088f",
   "metadata": {},
   "outputs": [
    {
     "name": "stdout",
     "output_type": "stream",
     "text": [
      "   Name  Age  Salary\n",
      "0  John   32   50000\n",
      "1  Jane   24   60000\n",
      "2   Jim   45   75000\n",
      "3  Jill   29   80000\n"
     ]
    }
   ],
   "source": [
    "# Q7. Create a DataFrame using multiple Series. Explain with an example.\n",
    "# create a Series for Name, Age, and Salary\n",
    "names = pd.Series(['John', 'Jane', 'Jim', 'Jill'])\n",
    "ages = pd.Series([32, 24, 45, 29])\n",
    "salaries = pd.Series([50000, 60000, 75000, 80000])\n",
    "\n",
    "# create a dictionary of Series\n",
    "data = {'Name': names, 'Age': ages, 'Salary': salaries}\n",
    "\n",
    "# create a DataFrame using the dictionary of Series\n",
    "df = pd.DataFrame(data)\n",
    "\n",
    "# print the DataFrame\n",
    "print(df)"
   ]
  }
 ],
 "metadata": {
  "kernelspec": {
   "display_name": "Python 3 (ipykernel)",
   "language": "python",
   "name": "python3"
  },
  "language_info": {
   "codemirror_mode": {
    "name": "ipython",
    "version": 3
   },
   "file_extension": ".py",
   "mimetype": "text/x-python",
   "name": "python",
   "nbconvert_exporter": "python",
   "pygments_lexer": "ipython3",
   "version": "3.10.8"
  }
 },
 "nbformat": 4,
 "nbformat_minor": 5
}
