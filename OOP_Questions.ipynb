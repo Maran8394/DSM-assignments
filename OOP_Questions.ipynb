{
 "cells": [
  {
   "cell_type": "markdown",
   "id": "0772281c",
   "metadata": {},
   "source": [
    "# Object-Oriented Programming Questions"
   ]
  },
  {
   "cell_type": "markdown",
   "id": "121f2ab4",
   "metadata": {},
   "source": [
    "### Q1. Explain Class and Object with respect to Object-Oriented Programming. Give a suitable example."
   ]
  },
  {
   "cell_type": "markdown",
   "id": "282d200f",
   "metadata": {},
   "source": [
    "**Class**: A class is a blueprint or template for creating objects. It defines attributes (variables) and methods (functions) that the objects created from the class will have.\n",
    "\n",
    "**Object**: An object is an instance of a class. It is a specific realization of a class, with actual values assigned to the attributes defined by the class."
   ]
  },
  {
   "cell_type": "code",
   "execution_count": null,
   "id": "ce669874",
   "metadata": {},
   "outputs": [],
   "source": [
    "# Example of a class and an object\n",
    "class Car:\n",
    "    def __init__(self, brand, model):\n",
    "        self.brand = brand\n",
    "        self.model = model\n",
    "\n",
    "    def start_engine(self):\n",
    "        print(f\"{self.brand} {self.model}'s engine started.\")\n",
    "\n",
    "# Creating an object\n",
    "my_car = Car(\"Toyota\", \"Camry\")\n",
    "my_car.start_engine()  # Output: Toyota Camry's engine started.\n"
   ]
  },
  {
   "cell_type": "markdown",
   "id": "d7934ec4",
   "metadata": {},
   "source": [
    "### Q2. Name the Four Pillars of OOPs."
   ]
  },
  {
   "cell_type": "markdown",
   "id": "e89a27a0",
   "metadata": {},
   "source": [
    "1. **Encapsulation**\n",
    "2. **Inheritance**\n",
    "3. **Polymorphism**\n",
    "4. **Abstraction**"
   ]
  },
  {
   "cell_type": "markdown",
   "id": "daeb8b10",
   "metadata": {},
   "source": [
    "### Q3. Explain Why the `__init__()` Function is Used. Give a Suitable Example."
   ]
  },
  {
   "cell_type": "markdown",
   "id": "77ccfeca",
   "metadata": {},
   "source": [
    "The `__init__()` function is a special method in Python used for initializing objects. It is called automatically when an object is created from a class, allowing you to set initial values for the object's attributes."
   ]
  },
  {
   "cell_type": "code",
   "execution_count": null,
   "id": "41f9c278",
   "metadata": {},
   "outputs": [],
   "source": [
    "# Example of using the __init__() function\n",
    "class Person:\n",
    "    def __init__(self, name, age):\n",
    "        self.name = name\n",
    "        self.age = age\n",
    "\n",
    "# Creating an object\n",
    "person = Person(\"Alice\", 30)\n",
    "print(person.name)  # Output: Alice\n"
   ]
  },
  {
   "cell_type": "markdown",
   "id": "1411e024",
   "metadata": {},
   "source": [
    "### Q4. Why `self` is Used in OOPs?"
   ]
  },
  {
   "cell_type": "markdown",
   "id": "72919ac9",
   "metadata": {},
   "source": [
    "The `self` keyword is used in instance methods to refer to the instance of the class on which the method is called. It allows access to the attributes and other methods of the class."
   ]
  },
  {
   "cell_type": "code",
   "execution_count": null,
   "id": "ad0b6575",
   "metadata": {},
   "outputs": [],
   "source": [
    "# Example of using self in OOP\n",
    "class Dog:\n",
    "    def __init__(self, name):\n",
    "        self.name = name\n",
    "\n",
    "    def bark(self):\n",
    "        print(f\"{self.name} is barking.\")\n",
    "\n",
    "dog = Dog(\"Buddy\")\n",
    "dog.bark()  # Output: Buddy is barking.\n"
   ]
  },
  {
   "cell_type": "markdown",
   "id": "433f4b8b",
   "metadata": {},
   "source": [
    "### Q5. What is Inheritance? Give an Example for Each Type of Inheritance."
   ]
  },
  {
   "cell_type": "markdown",
   "id": "3b1c2aac",
   "metadata": {},
   "source": [
    "Inheritance is a feature of OOP where a new class (child class) inherits attributes and methods from an existing class (parent class)."
   ]
  },
  {
   "cell_type": "markdown",
   "id": "1699fb84",
   "metadata": {},
   "source": [
    "#### 1. Single Inheritance"
   ]
  },
  {
   "cell_type": "code",
   "execution_count": null,
   "id": "4ea0d745",
   "metadata": {},
   "outputs": [],
   "source": [
    "# Example of Single Inheritance\n",
    "class Animal:\n",
    "    def eat(self):\n",
    "        print(\"Eating\")\n",
    "\n",
    "class Dog(Animal):\n",
    "    def bark(self):\n",
    "        print(\"Barking\")\n",
    "\n",
    "dog = Dog()\n",
    "dog.eat()  # Output: Eating\n"
   ]
  },
  {
   "cell_type": "markdown",
   "id": "c2765a41",
   "metadata": {},
   "source": [
    "#### 2. Multiple Inheritance"
   ]
  },
  {
   "cell_type": "code",
   "execution_count": null,
   "id": "f6a1a70e",
   "metadata": {},
   "outputs": [],
   "source": [
    "# Example of Multiple Inheritance\n",
    "class Father:\n",
    "    def work(self):\n",
    "        print(\"Working\")\n",
    "\n",
    "class Mother:\n",
    "    def cook(self):\n",
    "        print(\"Cooking\")\n",
    "\n",
    "class Child(Father, Mother):\n",
    "    pass\n",
    "\n",
    "child = Child()\n",
    "child.work()  # Output: Working\n"
   ]
  },
  {
   "cell_type": "markdown",
   "id": "089b3bb1",
   "metadata": {},
   "source": [
    "#### 3. Multilevel Inheritance"
   ]
  },
  {
   "cell_type": "code",
   "execution_count": null,
   "id": "f9667ebd",
   "metadata": {},
   "outputs": [],
   "source": [
    "# Example of Multilevel Inheritance\n",
    "class Animal:\n",
    "    def eat(self):\n",
    "        print(\"Eating\")\n",
    "\n",
    "class Mammal(Animal):\n",
    "    def walk(self):\n",
    "        print(\"Walking\")\n",
    "\n",
    "class Dog(Mammal):\n",
    "    def bark(self):\n",
    "        print(\"Barking\")\n",
    "\n",
    "dog = Dog()\n",
    "dog.walk()  # Output: Walking\n"
   ]
  },
  {
   "cell_type": "markdown",
   "id": "35b6ce1f",
   "metadata": {},
   "source": [
    "#### 4. Hierarchical Inheritance"
   ]
  },
  {
   "cell_type": "code",
   "execution_count": null,
   "id": "3764443c",
   "metadata": {},
   "outputs": [],
   "source": [
    "# Example of Hierarchical Inheritance\n",
    "class Animal:\n",
    "    def eat(self):\n",
    "        print(\"Eating\")\n",
    "\n",
    "class Dog(Animal):\n",
    "    def bark(self):\n",
    "        print(\"Barking\")\n",
    "\n",
    "class Cat(Animal):\n",
    "    def meow(self):\n",
    "        print(\"Meowing\")\n",
    "\n",
    "dog = Dog()\n",
    "cat = Cat()\n",
    "dog.eat()  # Output: Eating\n",
    "cat.eat()  # Output: Eating\n"
   ]
  },
  {
   "cell_type": "markdown",
   "id": "e8952c28",
   "metadata": {},
   "source": [
    "#### 5. Hybrid Inheritance"
   ]
  },
  {
   "cell_type": "code",
   "execution_count": null,
   "id": "0cfaefd1",
   "metadata": {},
   "outputs": [],
   "source": [
    "# Example of Hybrid Inheritance\n",
    "class Father:\n",
    "    def work(self):\n",
    "        print(\"Working\")\n",
    "\n",
    "class Mother:\n",
    "    def cook(self):\n",
    "        print(\"Cooking\")\n",
    "\n",
    "class Child(Father, Mother):\n",
    "    pass\n",
    "\n",
    "class Grandchild(Child):\n",
    "    def play(self):\n",
    "        print(\"Playing\")\n",
    "\n",
    "grandchild = Grandchild()\n",
    "grandchild.cook()  # Output: Cooking\n"
   ]
  }
 ],
 "metadata": {},
 "nbformat": 4,
 "nbformat_minor": 5
}