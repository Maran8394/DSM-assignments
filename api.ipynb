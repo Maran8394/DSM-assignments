{
 "cells": [
  {
   "cell_type": "markdown",
   "id": "cc0ec801-0d68-4ad1-a650-8ba54620f586",
   "metadata": {},
   "source": [
    "#### Q1. What is an API? Give an example, where an API is used in real life.\n",
    "* API(Application programming interface) defines how different software components should interact with each other, allowing for seamless communication and data exchange between different applications or services.\n",
    "* An example of API in real life is the weather api which allows the developer to retrive the wheather data by sending an request the specific endpoint with proper arguments and headers.\n"
   ]
  },
  {
   "cell_type": "markdown",
   "id": "77b1990b-a467-42ce-97ea-fd3efe293ed1",
   "metadata": {},
   "source": [
    "#### Q2. Give advantages and disadvantages of using API.\n",
    "Advantages:\n",
    "* easy to integrate\n",
    "* build applications quickly and efficiently.\n",
    "*  APIs provide a standardized way for different software systems to interact, reducing the complexity of software development and promoting interoperability.\n",
    "* flexibility\n",
    "\n",
    "Disadvantages:\n",
    "* Complexity\n",
    "* Security risks\n",
    "* Using APIs can create dependencies on external services, which can make an application vulnerable to service outages or changes in API functionality."
   ]
  },
  {
   "cell_type": "markdown",
   "id": "87e8fd3e-d17e-49bf-b0d3-72c8f908a986",
   "metadata": {},
   "source": [
    "#### Q3. What is a Web API? Differentiate between API and Web API.\n",
    "Web API:\n",
    "* Web api use only HTTP protocal.\n",
    "* web api support various formats for exchanging data, including XML, JSON, and HTML.\n",
    "\n",
    "API:\n",
    "* API my be use TCP,SMTP or HTTP protocal.\n",
    "* APIs can support various data exchange formats, such as XML or JSON, depending on the implementation. Web APIs, however, are typically designed to work with JSON (JavaScript Object Notation) or XML (Extensible Markup Language), which are widely used in web-based applications and services.\n"
   ]
  },
  {
   "cell_type": "markdown",
   "id": "a9e7d54e-6265-42c2-8984-396e9efb6e1e",
   "metadata": {},
   "source": [
    "#### Q4. Explain REST and SOAP Architecture. Mention shortcomings of SOAP.\n",
    "\n",
    "REST (Representational State Transfer): \n",
    "* REST is a lightweight architectural style that is designed to be used with web-based services. RESTful services use HTTP methods such as GET, POST, PUT, and DELETE to perform CRUD (Create, Read, Update, Delete) operations on resources that are identified by URIs. RESTful services typically use JSON or XML for data exchange.\n",
    "\n",
    "SOAP (Simple Object Access Protocol): \n",
    "* SOAP is a messaging protocol that is used to exchange structured data between applications over the internet. SOAP-based web services use XML as the data exchange format, and typically use HTTP as the communication protocol.\n",
    "\n",
    "Shortcomings of SOAP:\n",
    "* Complexity\n",
    "* limited browser suppport"
   ]
  },
  {
   "cell_type": "markdown",
   "id": "68984afa-b8e8-4ed9-a715-3df77c081c40",
   "metadata": {},
   "source": [
    "#### Q5. Differentiate between REST and SOAP.\n",
    "\n",
    "REST:\n",
    "* use HTTP protocol\n",
    "* simplicity, scalability,flexibility,\n",
    "* less secure compared to SOAP,\n",
    "\n",
    "SOAP:\n",
    "* it use SMTP,TCP, HTTP protocol to exchange the data,\n",
    "* secured,\n",
    "* it will return the response as XML format."
   ]
  }
 ],
 "metadata": {
  "kernelspec": {
   "display_name": "Python 3 (ipykernel)",
   "language": "python",
   "name": "python3"
  },
  "language_info": {
   "codemirror_mode": {
    "name": "ipython",
    "version": 3
   },
   "file_extension": ".py",
   "mimetype": "text/x-python",
   "name": "python",
   "nbconvert_exporter": "python",
   "pygments_lexer": "ipython3",
   "version": "3.10.8"
  }
 },
 "nbformat": 4,
 "nbformat_minor": 5
}
